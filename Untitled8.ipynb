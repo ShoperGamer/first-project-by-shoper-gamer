{
  "nbformat": 4,
  "nbformat_minor": 0,
  "metadata": {
    "colab": {
      "provenance": []
    },
    "kernelspec": {
      "name": "python3",
      "display_name": "Python 3"
    },
    "language_info": {
      "name": "python"
    }
  },
  "cells": [
    {
      "cell_type": "code",
      "execution_count": 1,
      "metadata": {
        "colab": {
          "base_uri": "https://localhost:8080/"
        },
        "id": "hCbZzXoMXxOu",
        "outputId": "f98e7c8d-8e65-475a-90ff-56636a1ce44d"
      },
      "outputs": [
        {
          "output_type": "stream",
          "name": "stdout",
          "text": [
            "ชื่อ = Judy\n",
            "จำนวนวิชา = 6\n",
            "คะแนนวิชาที่1 = 100\n",
            "คะแนนวิชาที่2 = 100\n",
            "คะแนนวิชาที่3 = 100\n",
            "คะแนนวิชาที่4 = 100\n",
            "คะแนนวิชาที่5 = 100\n",
            "คะแนนวิชาที่6 = 100\n",
            "คะแนนเฉลี่ย = 100.00\n",
            "เกรด = A\n"
          ]
        }
      ],
      "source": [
        "\n",
        "#เกรด + เกรดเฉลี่ย\n",
        "\n",
        "def tolgrade(P): #คะแนนเแลี่ย\n",
        "  return sum(P)/len(P)\n",
        "\n",
        "def grade(P): #เกรด\n",
        "  if 80 <= P <= 100:\n",
        "    return 'A'\n",
        "  elif 70 <= score < 80:\n",
        "        return 'B'\n",
        "  elif 60 <= score < 70:\n",
        "        return 'C'\n",
        "  elif 50 <= score < 60:\n",
        "        return 'D'\n",
        "  else:\n",
        "        return 'F'\n",
        "\n",
        "input(\"ชื่อ = \" )\n",
        "A = int(input(\"จำนวนวิชา = \"))\n",
        "\n",
        "import random #รับคะแนน\n",
        "P = []\n",
        "for i in range(1,A+1): #วนลูปตามจำนวนวิชาเก็บค่าไว้ที่ i\n",
        "  while True:\n",
        "    try:\n",
        "      x = float(input(f\"คะแนนวิชาที่ {i} = \"))\n",
        "      if 0 <= x <= 100:\n",
        "        P.append(x) #เอาไว้ตรวจสอบเงื่อนไข\n",
        "        break\n",
        "      else: #ป้องกันเลขที่ติดลบหรือมีค่ามากกว่า 100\n",
        "        print(\"คะแนนต้องอยู่ระหว่าง 0-100\")\n",
        "    except ValueError: #ป้องกันการกรอกอย่างอื่นนอกจากตัวเลข\n",
        "      print(\"กรุณากรอกคะแนนเป็นตัวเลข\")\n",
        "\n",
        "D = tolgrade(P)\n",
        "G = grade(D)\n",
        "\n",
        "print(f\"คะแนนเฉลี่ย = {D:.2f}\") #คะแนนเฉลี่ย\n",
        "print(f\"เกรด = {G}\") #เกรด"
      ]
    }
  ]
}